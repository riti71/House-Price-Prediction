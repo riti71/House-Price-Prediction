{
 "cells": [
  {
   "cell_type": "code",
   "execution_count": 1,
   "metadata": {},
   "outputs": [],
   "source": [
    "import pandas as pd\n",
    "import numpy as np\n",
    "import matplotlib.pyplot as plt\n",
    "import seaborn as sns"
   ]
  },
  {
   "cell_type": "code",
   "execution_count": 2,
   "metadata": {
    "scrolled": false
   },
   "outputs": [
    {
     "data": {
      "text/html": [
       "<div>\n",
       "<style scoped>\n",
       "    .dataframe tbody tr th:only-of-type {\n",
       "        vertical-align: middle;\n",
       "    }\n",
       "\n",
       "    .dataframe tbody tr th {\n",
       "        vertical-align: top;\n",
       "    }\n",
       "\n",
       "    .dataframe thead th {\n",
       "        text-align: right;\n",
       "    }\n",
       "</style>\n",
       "<table border=\"1\" class=\"dataframe\">\n",
       "  <thead>\n",
       "    <tr style=\"text-align: right;\">\n",
       "      <th></th>\n",
       "      <th>Id</th>\n",
       "      <th>MSSubClass</th>\n",
       "      <th>MSZoning</th>\n",
       "      <th>LotFrontage</th>\n",
       "      <th>LotArea</th>\n",
       "      <th>Street</th>\n",
       "      <th>Alley</th>\n",
       "      <th>LotShape</th>\n",
       "      <th>LandContour</th>\n",
       "      <th>Utilities</th>\n",
       "      <th>...</th>\n",
       "      <th>PoolArea</th>\n",
       "      <th>PoolQC</th>\n",
       "      <th>Fence</th>\n",
       "      <th>MiscFeature</th>\n",
       "      <th>MiscVal</th>\n",
       "      <th>MoSold</th>\n",
       "      <th>YrSold</th>\n",
       "      <th>SaleType</th>\n",
       "      <th>SaleCondition</th>\n",
       "      <th>SalePrice</th>\n",
       "    </tr>\n",
       "  </thead>\n",
       "  <tbody>\n",
       "    <tr>\n",
       "      <th>0</th>\n",
       "      <td>1</td>\n",
       "      <td>60</td>\n",
       "      <td>RL</td>\n",
       "      <td>65.0</td>\n",
       "      <td>8450</td>\n",
       "      <td>Pave</td>\n",
       "      <td>NaN</td>\n",
       "      <td>Reg</td>\n",
       "      <td>Lvl</td>\n",
       "      <td>AllPub</td>\n",
       "      <td>...</td>\n",
       "      <td>0</td>\n",
       "      <td>NaN</td>\n",
       "      <td>NaN</td>\n",
       "      <td>NaN</td>\n",
       "      <td>0</td>\n",
       "      <td>2</td>\n",
       "      <td>2008</td>\n",
       "      <td>WD</td>\n",
       "      <td>Normal</td>\n",
       "      <td>208500</td>\n",
       "    </tr>\n",
       "    <tr>\n",
       "      <th>1</th>\n",
       "      <td>2</td>\n",
       "      <td>20</td>\n",
       "      <td>RL</td>\n",
       "      <td>80.0</td>\n",
       "      <td>9600</td>\n",
       "      <td>Pave</td>\n",
       "      <td>NaN</td>\n",
       "      <td>Reg</td>\n",
       "      <td>Lvl</td>\n",
       "      <td>AllPub</td>\n",
       "      <td>...</td>\n",
       "      <td>0</td>\n",
       "      <td>NaN</td>\n",
       "      <td>NaN</td>\n",
       "      <td>NaN</td>\n",
       "      <td>0</td>\n",
       "      <td>5</td>\n",
       "      <td>2007</td>\n",
       "      <td>WD</td>\n",
       "      <td>Normal</td>\n",
       "      <td>181500</td>\n",
       "    </tr>\n",
       "    <tr>\n",
       "      <th>2</th>\n",
       "      <td>3</td>\n",
       "      <td>60</td>\n",
       "      <td>RL</td>\n",
       "      <td>68.0</td>\n",
       "      <td>11250</td>\n",
       "      <td>Pave</td>\n",
       "      <td>NaN</td>\n",
       "      <td>IR1</td>\n",
       "      <td>Lvl</td>\n",
       "      <td>AllPub</td>\n",
       "      <td>...</td>\n",
       "      <td>0</td>\n",
       "      <td>NaN</td>\n",
       "      <td>NaN</td>\n",
       "      <td>NaN</td>\n",
       "      <td>0</td>\n",
       "      <td>9</td>\n",
       "      <td>2008</td>\n",
       "      <td>WD</td>\n",
       "      <td>Normal</td>\n",
       "      <td>223500</td>\n",
       "    </tr>\n",
       "    <tr>\n",
       "      <th>3</th>\n",
       "      <td>4</td>\n",
       "      <td>70</td>\n",
       "      <td>RL</td>\n",
       "      <td>60.0</td>\n",
       "      <td>9550</td>\n",
       "      <td>Pave</td>\n",
       "      <td>NaN</td>\n",
       "      <td>IR1</td>\n",
       "      <td>Lvl</td>\n",
       "      <td>AllPub</td>\n",
       "      <td>...</td>\n",
       "      <td>0</td>\n",
       "      <td>NaN</td>\n",
       "      <td>NaN</td>\n",
       "      <td>NaN</td>\n",
       "      <td>0</td>\n",
       "      <td>2</td>\n",
       "      <td>2006</td>\n",
       "      <td>WD</td>\n",
       "      <td>Abnorml</td>\n",
       "      <td>140000</td>\n",
       "    </tr>\n",
       "    <tr>\n",
       "      <th>4</th>\n",
       "      <td>5</td>\n",
       "      <td>60</td>\n",
       "      <td>RL</td>\n",
       "      <td>84.0</td>\n",
       "      <td>14260</td>\n",
       "      <td>Pave</td>\n",
       "      <td>NaN</td>\n",
       "      <td>IR1</td>\n",
       "      <td>Lvl</td>\n",
       "      <td>AllPub</td>\n",
       "      <td>...</td>\n",
       "      <td>0</td>\n",
       "      <td>NaN</td>\n",
       "      <td>NaN</td>\n",
       "      <td>NaN</td>\n",
       "      <td>0</td>\n",
       "      <td>12</td>\n",
       "      <td>2008</td>\n",
       "      <td>WD</td>\n",
       "      <td>Normal</td>\n",
       "      <td>250000</td>\n",
       "    </tr>\n",
       "  </tbody>\n",
       "</table>\n",
       "<p>5 rows × 81 columns</p>\n",
       "</div>"
      ],
      "text/plain": [
       "   Id  MSSubClass MSZoning  LotFrontage  LotArea Street Alley LotShape  \\\n",
       "0   1          60       RL         65.0     8450   Pave   NaN      Reg   \n",
       "1   2          20       RL         80.0     9600   Pave   NaN      Reg   \n",
       "2   3          60       RL         68.0    11250   Pave   NaN      IR1   \n",
       "3   4          70       RL         60.0     9550   Pave   NaN      IR1   \n",
       "4   5          60       RL         84.0    14260   Pave   NaN      IR1   \n",
       "\n",
       "  LandContour Utilities  ... PoolArea PoolQC Fence MiscFeature MiscVal MoSold  \\\n",
       "0         Lvl    AllPub  ...        0    NaN   NaN         NaN       0      2   \n",
       "1         Lvl    AllPub  ...        0    NaN   NaN         NaN       0      5   \n",
       "2         Lvl    AllPub  ...        0    NaN   NaN         NaN       0      9   \n",
       "3         Lvl    AllPub  ...        0    NaN   NaN         NaN       0      2   \n",
       "4         Lvl    AllPub  ...        0    NaN   NaN         NaN       0     12   \n",
       "\n",
       "  YrSold  SaleType  SaleCondition  SalePrice  \n",
       "0   2008        WD         Normal     208500  \n",
       "1   2007        WD         Normal     181500  \n",
       "2   2008        WD         Normal     223500  \n",
       "3   2006        WD        Abnorml     140000  \n",
       "4   2008        WD         Normal     250000  \n",
       "\n",
       "[5 rows x 81 columns]"
      ]
     },
     "execution_count": 2,
     "metadata": {},
     "output_type": "execute_result"
    }
   ],
   "source": [
    "df=pd.read_csv('Downloads/house_train.csv')\n",
    "df.head()"
   ]
  },
  {
   "cell_type": "code",
   "execution_count": 3,
   "metadata": {},
   "outputs": [
    {
     "data": {
      "text/plain": [
       "{'Id': 0,\n",
       " 'MSSubClass': 0,\n",
       " 'MSZoning': 0,\n",
       " 'LotFrontage': 259,\n",
       " 'LotArea': 0,\n",
       " 'Street': 0,\n",
       " 'Alley': 1369,\n",
       " 'LotShape': 0,\n",
       " 'LandContour': 0,\n",
       " 'Utilities': 0,\n",
       " 'LotConfig': 0,\n",
       " 'LandSlope': 0,\n",
       " 'Neighborhood': 0,\n",
       " 'Condition1': 0,\n",
       " 'Condition2': 0,\n",
       " 'BldgType': 0,\n",
       " 'HouseStyle': 0,\n",
       " 'OverallQual': 0,\n",
       " 'OverallCond': 0,\n",
       " 'YearBuilt': 0,\n",
       " 'YearRemodAdd': 0,\n",
       " 'RoofStyle': 0,\n",
       " 'RoofMatl': 0,\n",
       " 'Exterior1st': 0,\n",
       " 'Exterior2nd': 0,\n",
       " 'MasVnrType': 8,\n",
       " 'MasVnrArea': 8,\n",
       " 'ExterQual': 0,\n",
       " 'ExterCond': 0,\n",
       " 'Foundation': 0,\n",
       " 'BsmtQual': 37,\n",
       " 'BsmtCond': 37,\n",
       " 'BsmtExposure': 38,\n",
       " 'BsmtFinType1': 37,\n",
       " 'BsmtFinSF1': 0,\n",
       " 'BsmtFinType2': 38,\n",
       " 'BsmtFinSF2': 0,\n",
       " 'BsmtUnfSF': 0,\n",
       " 'TotalBsmtSF': 0,\n",
       " 'Heating': 0,\n",
       " 'HeatingQC': 0,\n",
       " 'CentralAir': 0,\n",
       " 'Electrical': 1,\n",
       " '1stFlrSF': 0,\n",
       " '2ndFlrSF': 0,\n",
       " 'LowQualFinSF': 0,\n",
       " 'GrLivArea': 0,\n",
       " 'BsmtFullBath': 0,\n",
       " 'BsmtHalfBath': 0,\n",
       " 'FullBath': 0,\n",
       " 'HalfBath': 0,\n",
       " 'BedroomAbvGr': 0,\n",
       " 'KitchenAbvGr': 0,\n",
       " 'KitchenQual': 0,\n",
       " 'TotRmsAbvGrd': 0,\n",
       " 'Functional': 0,\n",
       " 'Fireplaces': 0,\n",
       " 'FireplaceQu': 690,\n",
       " 'GarageType': 81,\n",
       " 'GarageYrBlt': 81,\n",
       " 'GarageFinish': 81,\n",
       " 'GarageCars': 0,\n",
       " 'GarageArea': 0,\n",
       " 'GarageQual': 81,\n",
       " 'GarageCond': 81,\n",
       " 'PavedDrive': 0,\n",
       " 'WoodDeckSF': 0,\n",
       " 'OpenPorchSF': 0,\n",
       " 'EnclosedPorch': 0,\n",
       " '3SsnPorch': 0,\n",
       " 'ScreenPorch': 0,\n",
       " 'PoolArea': 0,\n",
       " 'PoolQC': 1453,\n",
       " 'Fence': 1179,\n",
       " 'MiscFeature': 1406,\n",
       " 'MiscVal': 0,\n",
       " 'MoSold': 0,\n",
       " 'YrSold': 0,\n",
       " 'SaleType': 0,\n",
       " 'SaleCondition': 0,\n",
       " 'SalePrice': 0}"
      ]
     },
     "execution_count": 3,
     "metadata": {},
     "output_type": "execute_result"
    }
   ],
   "source": [
    "dic={}\n",
    "for i in df.columns:\n",
    "    dic[i]=df[i].isnull().sum()\n",
    "dic"
   ]
  },
  {
   "cell_type": "code",
   "execution_count": 4,
   "metadata": {},
   "outputs": [],
   "source": [
    "# we have 1460 data with 81 predictors. "
   ]
  },
  {
   "cell_type": "code",
   "execution_count": 7,
   "metadata": {},
   "outputs": [],
   "source": [
    "#Out of these predictors,predictor \"Alley\" contains 1369 missing values and predictor \"ZPoolQC\",\"Fence\" and \"MiscFeature\" contains\n",
    "#1453,1179 and 1406 missing values respectively.i.e more than 80% of their data is missing.\n",
    "#it is good to drop these rows.\n"
   ]
  },
  {
   "cell_type": "code",
   "execution_count": 6,
   "metadata": {},
   "outputs": [],
   "source": [
    "df.drop(['Alley','PoolQC','Fence','MiscFeature'],axis=1,inplace=True)"
   ]
  },
  {
   "cell_type": "code",
   "execution_count": 8,
   "metadata": {},
   "outputs": [
    {
     "name": "stdout",
     "output_type": "stream",
     "text": [
      "LotFrontage  :  float64\n",
      "MasVnrType  :  object\n",
      "MasVnrArea  :  float64\n",
      "BsmtQual  :  object\n",
      "BsmtCond  :  object\n",
      "BsmtExposure  :  object\n",
      "BsmtFinType1  :  object\n",
      "BsmtFinType2  :  object\n",
      "Electrical  :  object\n",
      "FireplaceQu  :  object\n",
      "GarageType  :  object\n",
      "GarageYrBlt  :  float64\n",
      "GarageFinish  :  object\n",
      "GarageQual  :  object\n",
      "GarageCond  :  object\n"
     ]
    }
   ],
   "source": [
    "for i in df.columns:\n",
    "    if df[i].isnull().sum() > 0:\n",
    "        print(i,\" : \",df[i].dtype)"
   ]
  },
  {
   "cell_type": "code",
   "execution_count": 9,
   "metadata": {},
   "outputs": [],
   "source": [
    "#df[['LotFrontage','MasVnrArea','GarageYrBlt']]=df[['LotFrontage','MasVnrArea','GarageYrBlt']].astype('float')"
   ]
  },
  {
   "cell_type": "code",
   "execution_count": 10,
   "metadata": {},
   "outputs": [],
   "source": [
    "for i in df.columns:\n",
    "    if df[i].dtype=='O':\n",
    "        df[i].replace([np.nan,'NaN'],'unknown',inplace=True)"
   ]
  },
  {
   "cell_type": "code",
   "execution_count": 11,
   "metadata": {
    "scrolled": true
   },
   "outputs": [],
   "source": [
    "#df[['LotFrontage','MasVnrArea','GarageYrBlt']]"
   ]
  },
  {
   "cell_type": "code",
   "execution_count": 12,
   "metadata": {},
   "outputs": [
    {
     "data": {
      "text/plain": [
       "{'Id': 0,\n",
       " 'MSSubClass': 0,\n",
       " 'MSZoning': 0,\n",
       " 'LotFrontage': 259,\n",
       " 'LotArea': 0,\n",
       " 'Street': 0,\n",
       " 'LotShape': 0,\n",
       " 'LandContour': 0,\n",
       " 'Utilities': 0,\n",
       " 'LotConfig': 0,\n",
       " 'LandSlope': 0,\n",
       " 'Neighborhood': 0,\n",
       " 'Condition1': 0,\n",
       " 'Condition2': 0,\n",
       " 'BldgType': 0,\n",
       " 'HouseStyle': 0,\n",
       " 'OverallQual': 0,\n",
       " 'OverallCond': 0,\n",
       " 'YearBuilt': 0,\n",
       " 'YearRemodAdd': 0,\n",
       " 'RoofStyle': 0,\n",
       " 'RoofMatl': 0,\n",
       " 'Exterior1st': 0,\n",
       " 'Exterior2nd': 0,\n",
       " 'MasVnrType': 0,\n",
       " 'MasVnrArea': 8,\n",
       " 'ExterQual': 0,\n",
       " 'ExterCond': 0,\n",
       " 'Foundation': 0,\n",
       " 'BsmtQual': 0,\n",
       " 'BsmtCond': 0,\n",
       " 'BsmtExposure': 0,\n",
       " 'BsmtFinType1': 0,\n",
       " 'BsmtFinSF1': 0,\n",
       " 'BsmtFinType2': 0,\n",
       " 'BsmtFinSF2': 0,\n",
       " 'BsmtUnfSF': 0,\n",
       " 'TotalBsmtSF': 0,\n",
       " 'Heating': 0,\n",
       " 'HeatingQC': 0,\n",
       " 'CentralAir': 0,\n",
       " 'Electrical': 0,\n",
       " '1stFlrSF': 0,\n",
       " '2ndFlrSF': 0,\n",
       " 'LowQualFinSF': 0,\n",
       " 'GrLivArea': 0,\n",
       " 'BsmtFullBath': 0,\n",
       " 'BsmtHalfBath': 0,\n",
       " 'FullBath': 0,\n",
       " 'HalfBath': 0,\n",
       " 'BedroomAbvGr': 0,\n",
       " 'KitchenAbvGr': 0,\n",
       " 'KitchenQual': 0,\n",
       " 'TotRmsAbvGrd': 0,\n",
       " 'Functional': 0,\n",
       " 'Fireplaces': 0,\n",
       " 'FireplaceQu': 0,\n",
       " 'GarageType': 0,\n",
       " 'GarageYrBlt': 81,\n",
       " 'GarageFinish': 0,\n",
       " 'GarageCars': 0,\n",
       " 'GarageArea': 0,\n",
       " 'GarageQual': 0,\n",
       " 'GarageCond': 0,\n",
       " 'PavedDrive': 0,\n",
       " 'WoodDeckSF': 0,\n",
       " 'OpenPorchSF': 0,\n",
       " 'EnclosedPorch': 0,\n",
       " '3SsnPorch': 0,\n",
       " 'ScreenPorch': 0,\n",
       " 'PoolArea': 0,\n",
       " 'MiscVal': 0,\n",
       " 'MoSold': 0,\n",
       " 'YrSold': 0,\n",
       " 'SaleType': 0,\n",
       " 'SaleCondition': 0,\n",
       " 'SalePrice': 0}"
      ]
     },
     "execution_count": 12,
     "metadata": {},
     "output_type": "execute_result"
    }
   ],
   "source": [
    "dic={}\n",
    "for i in df.columns:\n",
    "    dic[i]=df[i].isnull().sum()\n",
    "dic"
   ]
  },
  {
   "cell_type": "code",
   "execution_count": 13,
   "metadata": {},
   "outputs": [
    {
     "data": {
      "text/plain": [
       "<AxesSubplot:>"
      ]
     },
     "execution_count": 13,
     "metadata": {},
     "output_type": "execute_result"
    },
    {
     "data": {
      "image/png": "[encoded data removed]",
      "text/plain": [
       "<Figure size 1080x1080 with 2 Axes>"
      ]
     },
     "metadata": {
      "needs_background": "light"
     },
     "output_type": "display_data"
    }
   ],
   "source": [
    "plt.figure(figsize=(15,15))\n",
    "sns.heatmap(df.corr())"
   ]
  },
  {
   "cell_type": "code",
   "execution_count": 14,
   "metadata": {},
   "outputs": [],
   "source": [
    "newdf=df[['MSSubClass','LotFrontage']]\n",
    "test=newdf[newdf.LotFrontage.isnull()]\n",
    "train=newdf[newdf.LotFrontage.notnull()]"
   ]
  },
  {
   "cell_type": "code",
   "execution_count": 15,
   "metadata": {},
   "outputs": [
    {
     "data": {
      "text/plain": [
       "<matplotlib.collections.PathCollection at 0x7f6b5e0>"
      ]
     },
     "execution_count": 15,
     "metadata": {},
     "output_type": "execute_result"
    },
    {
     "data": {
      "image/png": "[encoded data removed]",
      "text/plain": [
       "<Figure size 432x288 with 1 Axes>"
      ]
     },
     "metadata": {
      "needs_background": "light"
     },
     "output_type": "display_data"
    }
   ],
   "source": [
    "plt.scatter(x='MSSubClass',y='LotFrontage',data=train)"
   ]
  },
  {
   "cell_type": "code",
   "execution_count": 16,
   "metadata": {},
   "outputs": [],
   "source": [
    "#replacing missing values of LotFrontage by mean of its values corresponding to MSSubClass."
   ]
  },
  {
   "cell_type": "code",
   "execution_count": 17,
   "metadata": {
    "scrolled": false
   },
   "outputs": [],
   "source": [
    "df['LotFrontage'].replace(np.nan,0,inplace=True)\n",
    "idx=df.index[df['LotFrontage']==0].tolist()\n",
    "import warnings\n",
    "warnings.filterwarnings('ignore')\n",
    "for i in idx:\n",
    "    a=df['MSSubClass'][i]\n",
    "    lis=list(df['LotFrontage'][df['MSSubClass']==a])\n",
    "    m=np.sum(lis)/(len(lis))\n",
    "    df['LotFrontage'][i]=round(m)"
   ]
  },
  {
   "cell_type": "code",
   "execution_count": 18,
   "metadata": {},
   "outputs": [],
   "source": [
    "#garagebuilt is almost same as yearbuilt except some data, it seems valid to use yearbuilt data as missing data in garagebuilt"
   ]
  },
  {
   "cell_type": "code",
   "execution_count": 19,
   "metadata": {},
   "outputs": [],
   "source": [
    "idx2=df.index[df['GarageYrBlt'].isnull()].tolist()\n",
    "for i in idx2:\n",
    "    a=df['YearBuilt'][i]\n",
    "    df['GarageYrBlt']=float(a)"
   ]
  },
  {
   "cell_type": "code",
   "execution_count": 20,
   "metadata": {},
   "outputs": [
    {
     "data": {
      "text/plain": [
       "8"
      ]
     },
     "execution_count": 20,
     "metadata": {},
     "output_type": "execute_result"
    }
   ],
   "source": [
    "df['MasVnrArea'].isnull().sum()"
   ]
  },
  {
   "cell_type": "code",
   "execution_count": 21,
   "metadata": {},
   "outputs": [],
   "source": [
    "df.dropna(inplace=True)"
   ]
  },
  {
   "cell_type": "code",
   "execution_count": 22,
   "metadata": {},
   "outputs": [
    {
     "data": {
      "text/plain": [
       "(1452, 77)"
      ]
     },
     "execution_count": 22,
     "metadata": {},
     "output_type": "execute_result"
    }
   ],
   "source": [
    "df.shape"
   ]
  },
  {
   "cell_type": "code",
   "execution_count": 23,
   "metadata": {},
   "outputs": [],
   "source": [
    "#CLEANING PROCESS IS DONE!!!"
   ]
  },
  {
   "cell_type": "code",
   "execution_count": 24,
   "metadata": {},
   "outputs": [],
   "source": [
    "test=pd.read_csv('Downloads/house_test.csv')"
   ]
  },
  {
   "cell_type": "code",
   "execution_count": 25,
   "metadata": {},
   "outputs": [
    {
     "data": {
      "text/plain": [
       "(1459, 80)"
      ]
     },
     "execution_count": 25,
     "metadata": {},
     "output_type": "execute_result"
    }
   ],
   "source": [
    "test.shape"
   ]
  },
  {
   "cell_type": "code",
   "execution_count": 26,
   "metadata": {},
   "outputs": [],
   "source": [
    "test.drop(['Alley','PoolQC','Fence','MiscFeature'],axis=1,inplace=True)"
   ]
  },
  {
   "cell_type": "code",
   "execution_count": 27,
   "metadata": {
    "scrolled": true
   },
   "outputs": [
    {
     "data": {
      "text/plain": [
       "Id                 0\n",
       "MSSubClass         0\n",
       "MSZoning           4\n",
       "LotFrontage      227\n",
       "LotArea            0\n",
       "                ... \n",
       "MiscVal            0\n",
       "MoSold             0\n",
       "YrSold             0\n",
       "SaleType           1\n",
       "SaleCondition      0\n",
       "Length: 76, dtype: int64"
      ]
     },
     "execution_count": 27,
     "metadata": {},
     "output_type": "execute_result"
    }
   ],
   "source": [
    "test.isnull().sum()"
   ]
  },
  {
   "cell_type": "code",
   "execution_count": 28,
   "metadata": {},
   "outputs": [],
   "source": [
    "#we need to clean our test data too\n",
    "dic={}\n",
    "for i in test.columns:\n",
    "    dic[i]=test[i].isnull().sum()"
   ]
  },
  {
   "cell_type": "code",
   "execution_count": 29,
   "metadata": {},
   "outputs": [],
   "source": [
    "#Here we will clean the data in the same procedure we did in training dataset, replace objects with unknown and some \n",
    "#algorithms for float values\n",
    "ob_lis=[]\n",
    "float_lis=[]\n",
    "for i in test.columns:\n",
    "    if test[i].isnull().sum() > 0:\n",
    "        if test[i].dtype=='O':\n",
    "            ob_lis.append(i)\n",
    "        else:\n",
    "            float_lis.append(i)"
   ]
  },
  {
   "cell_type": "code",
   "execution_count": 30,
   "metadata": {},
   "outputs": [],
   "source": [
    "for i in ob_lis:\n",
    "    test[i].replace([np.nan,'NaN'],'unknown',inplace=True)"
   ]
  },
  {
   "cell_type": "code",
   "execution_count": 31,
   "metadata": {},
   "outputs": [
    {
     "name": "stdout",
     "output_type": "stream",
     "text": [
      "LotFrontage  :  float64  :  227\n",
      "MasVnrArea  :  float64  :  15\n",
      "BsmtFinSF1  :  float64  :  1\n",
      "BsmtFinSF2  :  float64  :  1\n",
      "BsmtUnfSF  :  float64  :  1\n",
      "TotalBsmtSF  :  float64  :  1\n",
      "BsmtFullBath  :  float64  :  2\n",
      "BsmtHalfBath  :  float64  :  2\n",
      "GarageYrBlt  :  float64  :  78\n",
      "GarageCars  :  float64  :  1\n",
      "GarageArea  :  float64  :  1\n"
     ]
    }
   ],
   "source": [
    "#now let's see at columns with nan values\n",
    "for i in test.columns:\n",
    "    if test[i].isnull().sum() > 0:\n",
    "        print(i,\" : \",test[i].dtype,\" : \",test[i].isnull().sum())"
   ]
  },
  {
   "cell_type": "code",
   "execution_count": 32,
   "metadata": {},
   "outputs": [],
   "source": [
    "# we have 227 missing values in LotFrontage, we'll deal it with the same way we did in training cleaning process."
   ]
  },
  {
   "cell_type": "code",
   "execution_count": 33,
   "metadata": {},
   "outputs": [],
   "source": [
    "test['LotFrontage'].replace(np.nan,0,inplace=True)\n",
    "idx=test.index[test['LotFrontage']==0].tolist()\n",
    "import warnings\n",
    "warnings.filterwarnings('ignore')\n",
    "for i in idx:\n",
    "    a=test['MSSubClass'][i]\n",
    "    lis=list(test['LotFrontage'][test['MSSubClass']==a])\n",
    "    m=np.sum(lis)/(len(lis))\n",
    "    test['LotFrontage'][i]=round(m)"
   ]
  },
  {
   "cell_type": "code",
   "execution_count": 34,
   "metadata": {},
   "outputs": [],
   "source": [
    "#there's one record which contains unique value of MSSubClass corresponding to a missing value of  LotFrontage.In that case we can't apply our cleaning technique here.\n",
    "inde=test.index[test['LotFrontage'].isnull()]"
   ]
  },
  {
   "cell_type": "code",
   "execution_count": 35,
   "metadata": {},
   "outputs": [],
   "source": [
    "test['LotFrontage'].replace(0,np.nan,inplace=True)"
   ]
  },
  {
   "cell_type": "code",
   "execution_count": 36,
   "metadata": {},
   "outputs": [],
   "source": [
    "#for i in float_lis:\n",
    "#    print(min(test[i]),max(test[i]))\n",
    "#zero is their min value so we can't replace nan values by zero\n",
    "# let's replace them by their average\n",
    "for i in float_lis:\n",
    "    test[i].replace(np.nan,round(test[i].sum()/len(test)),inplace=True)"
   ]
  },
  {
   "cell_type": "code",
   "execution_count": 37,
   "metadata": {},
   "outputs": [],
   "source": [
    "#GARAGEYRBLT\n",
    "idx2=test.index[test['GarageYrBlt'].isnull()].tolist()\n",
    "for i in idx2:\n",
    "    a=test['YearBuilt'][i]\n",
    "    test['GarageYrBlt']=float(a)"
   ]
  },
  {
   "cell_type": "code",
   "execution_count": 39,
   "metadata": {},
   "outputs": [],
   "source": [
    "# The Data is clean now"
   ]
  },
  {
   "cell_type": "code",
   "execution_count": 40,
   "metadata": {},
   "outputs": [],
   "source": [
    "#CONVERSION OF TRAIN SET TO DUMMY VARIABLES\n",
    "x=df.drop('SalePrice',axis=1)\n",
    "y=df[['SalePrice']]\n",
    "ob=[]\n",
    "for i in x.columns:\n",
    "    if x[i].dtype=='O':\n",
    "        ob.append(i)\n",
    "for i in ob:\n",
    "    k=pd.get_dummies(x[i])\n",
    "    x.drop(i,axis=1,inplace=True)\n",
    "    x=pd.concat([x,k],axis=1)\n",
    "x.drop('unknown',axis=1,inplace=True)\n",
    "x.drop('Id',axis=1,inplace=True)"
   ]
  },
  {
   "cell_type": "code",
   "execution_count": 41,
   "metadata": {},
   "outputs": [],
   "source": [
    "#CONVERSION OF TESTING SET TO DUMMY VARIABLES\n",
    "obt=[]\n",
    "for i in test.columns:\n",
    "    if test[i].dtype=='O':\n",
    "        obt.append(i)\n",
    "for i in obt:\n",
    "    k=pd.get_dummies(test[i])\n",
    "    test.drop(i,axis=1,inplace=True)\n",
    "    test=pd.concat([k,test],axis=1)\n",
    "train_col=x.columns\n",
    "test_col=test.columns\n",
    "rest=[]\n",
    "for i in train_col:\n",
    "    if i not in test_col:\n",
    "        rest.append(i)\n",
    "d=pd.DataFrame(np.zeros((len(test),len(rest))),columns=rest)\n",
    "d.astype('float')\n",
    "test=pd.concat([d,test],axis=1)\n",
    "test.drop('unknown',axis=1,inplace=True)\n",
    "Id=test.drop('Id',axis=1,inplace=True)"
   ]
  },
  {
   "cell_type": "code",
   "execution_count": 42,
   "metadata": {},
   "outputs": [],
   "source": [
    "x=x.groupby(x.columns, axis=1).sum()"
   ]
  },
  {
   "cell_type": "code",
   "execution_count": 43,
   "metadata": {},
   "outputs": [],
   "source": [
    "test=test.groupby(test.columns,axis=1).sum()"
   ]
  },
  {
   "cell_type": "code",
   "execution_count": 44,
   "metadata": {},
   "outputs": [],
   "source": [
    "from sklearn.model_selection import train_test_split"
   ]
  },
  {
   "cell_type": "code",
   "execution_count": 45,
   "metadata": {},
   "outputs": [],
   "source": [
    "from sklearn.model_selection import train_test_split\n",
    "x_train,x_test,y_train,y_test=train_test_split(x,y,test_size=0.3,random_state=2)"
   ]
  },
  {
   "cell_type": "markdown",
   "metadata": {},
   "source": [
    "# SUPPORT VECTOR MACHINE"
   ]
  },
  {
   "cell_type": "code",
   "execution_count": 46,
   "metadata": {},
   "outputs": [],
   "source": [
    "#from sklearn.discriminant_analysis import LinearDiscriminantAnalysis"
   ]
  },
  {
   "cell_type": "code",
   "execution_count": 47,
   "metadata": {},
   "outputs": [],
   "source": [
    "from sklearn.svm import SVC"
   ]
  },
  {
   "cell_type": "code",
   "execution_count": 48,
   "metadata": {},
   "outputs": [
    {
     "data": {
      "text/plain": [
       "SVC()"
      ]
     },
     "execution_count": 48,
     "metadata": {},
     "output_type": "execute_result"
    }
   ],
   "source": [
    "svm=SVC()\n",
    "svm.fit(x_train,y_train)"
   ]
  },
  {
   "cell_type": "code",
   "execution_count": 49,
   "metadata": {},
   "outputs": [],
   "source": [
    " yhat=svm.predict(x_train)"
   ]
  },
  {
   "cell_type": "code",
   "execution_count": 52,
   "metadata": {},
   "outputs": [],
   "source": [
    "from sklearn.metrics import r2_score"
   ]
  },
  {
   "cell_type": "code",
   "execution_count": 53,
   "metadata": {},
   "outputs": [
    {
     "data": {
      "text/plain": [
       "-39.55105085964493"
      ]
     },
     "execution_count": 53,
     "metadata": {},
     "output_type": "execute_result"
    }
   ],
   "source": [
    "r2_score(yhat,y_train)"
   ]
  },
  {
   "cell_type": "markdown",
   "metadata": {},
   "source": [
    "# RIDGE REGRESSION"
   ]
  },
  {
   "cell_type": "code",
   "execution_count": 54,
   "metadata": {},
   "outputs": [],
   "source": [
    "from sklearn.linear_model import Ridge"
   ]
  },
  {
   "cell_type": "code",
   "execution_count": 55,
   "metadata": {},
   "outputs": [],
   "source": [
    "rr=Ridge(alpha=0.01)"
   ]
  },
  {
   "cell_type": "code",
   "execution_count": 56,
   "metadata": {},
   "outputs": [
    {
     "data": {
      "text/plain": [
       "Ridge(alpha=0.01)"
      ]
     },
     "execution_count": 56,
     "metadata": {},
     "output_type": "execute_result"
    }
   ],
   "source": [
    "rr.fit(x_train,y_train)"
   ]
  },
  {
   "cell_type": "code",
   "execution_count": 57,
   "metadata": {},
   "outputs": [],
   "source": [
    "yhat=rr.predict(x_train)"
   ]
  },
  {
   "cell_type": "code",
   "execution_count": 60,
   "metadata": {},
   "outputs": [],
   "source": [
    "yh=rr.predict(x_test)"
   ]
  },
  {
   "cell_type": "code",
   "execution_count": 61,
   "metadata": {},
   "outputs": [
    {
     "data": {
      "text/plain": [
       "0.6174292877884788"
      ]
     },
     "execution_count": 61,
     "metadata": {},
     "output_type": "execute_result"
    }
   ],
   "source": [
    "r2_score(yh,y_test)"
   ]
  },
  {
   "cell_type": "markdown",
   "metadata": {},
   "source": [
    "# LASSO REGRESSION"
   ]
  },
  {
   "cell_type": "code",
   "execution_count": 62,
   "metadata": {},
   "outputs": [],
   "source": [
    "from sklearn.linear_model import Lasso"
   ]
  },
  {
   "cell_type": "code",
   "execution_count": 63,
   "metadata": {},
   "outputs": [],
   "source": [
    "ls=Lasso(alpha=0.01)"
   ]
  },
  {
   "cell_type": "code",
   "execution_count": 64,
   "metadata": {},
   "outputs": [
    {
     "data": {
      "text/plain": [
       "Lasso(alpha=0.01)"
      ]
     },
     "execution_count": 64,
     "metadata": {},
     "output_type": "execute_result"
    }
   ],
   "source": [
    "ls.fit(x_train,y_train)"
   ]
  },
  {
   "cell_type": "code",
   "execution_count": 65,
   "metadata": {},
   "outputs": [],
   "source": [
    "yhat=ls.predict(x_test)"
   ]
  },
  {
   "cell_type": "code",
   "execution_count": 66,
   "metadata": {},
   "outputs": [
    {
     "data": {
      "text/plain": [
       "0.618159447794028"
      ]
     },
     "execution_count": 66,
     "metadata": {},
     "output_type": "execute_result"
    }
   ],
   "source": [
    "r2_score(yhat,y_test)"
   ]
  },
  {
   "cell_type": "markdown",
   "metadata": {},
   "source": [
    "# PRINCIPLE COMPONENT ANALYSIS"
   ]
  },
  {
   "cell_type": "code",
   "execution_count": 67,
   "metadata": {},
   "outputs": [],
   "source": [
    "from sklearn import model_selection\n",
    "from sklearn.preprocessing import scale\n",
    "from sklearn.decomposition import PCA\n",
    "from sklearn.cross_decomposition import PLSRegression\n",
    "from sklearn.linear_model import LinearRegression"
   ]
  },
  {
   "cell_type": "code",
   "execution_count": 68,
   "metadata": {},
   "outputs": [
    {
     "data": {
      "text/plain": [
       "(1452, 203)"
      ]
     },
     "execution_count": 68,
     "metadata": {},
     "output_type": "execute_result"
    }
   ],
   "source": [
    "regr=LinearRegression()\n",
    "x.shape"
   ]
  },
  {
   "cell_type": "code",
   "execution_count": 69,
   "metadata": {},
   "outputs": [],
   "source": [
    "pca=PCA()\n",
    "x_reduced=pca.fit_transform(scale(x))"
   ]
  },
  {
   "cell_type": "code",
   "execution_count": 70,
   "metadata": {},
   "outputs": [],
   "source": [
    "#10 fold cv with shuffle\n",
    "kf_10 = model_selection.KFold( n_splits=10, shuffle=True, random_state=1)\n",
    "n=len(x_reduced)"
   ]
  },
  {
   "cell_type": "code",
   "execution_count": 77,
   "metadata": {},
   "outputs": [],
   "source": [
    "regr=LinearRegression()\n",
    "mse=[]\n",
    "# Calculate MSE with only the intercept (no principal components in regression)\n",
    "score = -1*model_selection.cross_val_score(regr, np.ones((n,1)), np.asanyarray(y).ravel(), cv=kf_10, scoring='neg_mean_squared_error').mean()    \n",
    "mse.append(score)"
   ]
  },
  {
   "cell_type": "code",
   "execution_count": 78,
   "metadata": {},
   "outputs": [
    {
     "data": {
      "text/plain": [
       "[6284925130.031085]"
      ]
     },
     "execution_count": 78,
     "metadata": {},
     "output_type": "execute_result"
    }
   ],
   "source": [
    "mse"
   ]
  },
  {
   "cell_type": "code",
   "execution_count": 80,
   "metadata": {},
   "outputs": [],
   "source": [
    "# Calculate MSE using CV for the 19 principle components, adding one component at the time.\n",
    "for i in np.arange(1,20):\n",
    "    score=-1*model_selection.cross_val_score(regr,x_reduced[:,:i],np.asanyarray(y).ravel(),cv=kf_10,scoring='neg_mean_squared_error').mean()\n",
    "    mse.append(score)"
   ]
  },
  {
   "cell_type": "code",
   "execution_count": 81,
   "metadata": {},
   "outputs": [
    {
     "data": {
      "text/plain": [
       "(-1.0, 19.95)"
      ]
     },
     "execution_count": 81,
     "metadata": {},
     "output_type": "execute_result"
    },
    {
     "data": {
      "image/png": "[encoded data removed]",
      "text/plain": [
       "<Figure size 1080x720 with 1 Axes>"
      ]
     },
     "metadata": {
      "needs_background": "light"
     },
     "output_type": "display_data"
    }
   ],
   "source": [
    "plt.figure(figsize=(15,10))\n",
    "plt.plot(mse,'-v')\n",
    "plt.xlabel(\"number of principle component\")\n",
    "plt.ylabel(\"MSE\")\n",
    "plt.title('SalePrice')\n",
    "plt.xlim(xmin=-1)"
   ]
  },
  {
   "cell_type": "code",
   "execution_count": 82,
   "metadata": {},
   "outputs": [
    {
     "data": {
      "text/plain": [
       "array([ 6.75, 10.16, 13.07, 15.43, 17.6 , 19.49, 21.12, 22.7 , 24.18,\n",
       "       25.51, 26.82, 28.08, 29.26, 30.41, 31.52, 32.6 , 33.65, 34.69,\n",
       "       35.72, 36.73, 37.73, 38.7 , 39.64, 40.56, 41.46, 42.34, 43.22,\n",
       "       44.08, 44.93, 45.76, 46.57, 47.37, 48.16, 48.93, 49.69, 50.45,\n",
       "       51.19, 51.92, 52.64, 53.35, 54.05, 54.74, 55.42, 56.09, 56.75,\n",
       "       57.4 , 58.05, 58.7 , 59.33, 59.96, 60.58, 61.19, 61.8 , 62.4 ,\n",
       "       63.  , 63.6 , 64.18, 64.76, 65.33, 65.89, 66.45, 67.01, 67.56,\n",
       "       68.11, 68.65, 69.18, 69.71, 70.23, 70.75, 71.27, 71.78, 72.29,\n",
       "       72.79, 73.29, 73.78, 74.27, 74.75, 75.23, 75.7 , 76.17, 76.63,\n",
       "       77.09, 77.54, 77.99, 78.43, 78.87, 79.3 , 79.73, 80.16, 80.58,\n",
       "       80.99, 81.4 , 81.81, 82.21, 82.61, 83.  , 83.39, 83.78, 84.17,\n",
       "       84.55, 84.93, 85.3 , 85.67, 86.03, 86.39, 86.74, 87.09, 87.43,\n",
       "       87.77, 88.11, 88.45, 88.78, 89.11, 89.43, 89.75, 90.06, 90.37,\n",
       "       90.67, 90.97, 91.26, 91.55, 91.84, 92.12, 92.4 , 92.67, 92.94,\n",
       "       93.2 , 93.45, 93.7 , 93.95, 94.19, 94.43, 94.66, 94.88, 95.1 ,\n",
       "       95.32, 95.54, 95.75, 95.96, 96.16, 96.36, 96.55, 96.74, 96.92,\n",
       "       97.1 , 97.28, 97.45, 97.62, 97.78, 97.93, 98.07, 98.21, 98.34,\n",
       "       98.46, 98.58, 98.7 , 98.81, 98.91, 99.  , 99.09, 99.18, 99.26,\n",
       "       99.34, 99.41, 99.47, 99.53, 99.59, 99.64, 99.69, 99.73, 99.77,\n",
       "       99.81, 99.84, 99.87, 99.9 , 99.91, 99.92, 99.93, 99.94, 99.94,\n",
       "       99.94, 99.94, 99.94, 99.94, 99.94, 99.94, 99.94, 99.94, 99.94,\n",
       "       99.94, 99.94, 99.94, 99.94, 99.94, 99.94, 99.94, 99.94, 99.94,\n",
       "       99.94, 99.94, 99.94, 99.94, 99.94])"
      ]
     },
     "execution_count": 82,
     "metadata": {},
     "output_type": "execute_result"
    }
   ],
   "source": [
    "np.cumsum(np.round(pca.explained_variance_ratio_, decimals=4)*100)"
   ]
  },
  {
   "cell_type": "code",
   "execution_count": 83,
   "metadata": {},
   "outputs": [],
   "source": [
    "#now this on train and test set"
   ]
  },
  {
   "cell_type": "code",
   "execution_count": 84,
   "metadata": {},
   "outputs": [],
   "source": [
    "pca2=PCA()\n",
    "x_train_red=pca2.fit_transform(scale(x_train))\n",
    "n=len(x_train_red)"
   ]
  },
  {
   "cell_type": "code",
   "execution_count": 86,
   "metadata": {},
   "outputs": [
    {
     "data": {
      "text/plain": [
       "Text(0.5, 1.0, 'SalePrice')"
      ]
     },
     "execution_count": 86,
     "metadata": {},
     "output_type": "execute_result"
    },
    {
     "data": {
      "image/png": "[encoded data removed]",
      "text/plain": [
       "<Figure size 1080x720 with 1 Axes>"
      ]
     },
     "metadata": {
      "needs_background": "light"
     },
     "output_type": "display_data"
    }
   ],
   "source": [
    "#k-fold with cv\n",
    "kf_10=model_selection.KFold(n_splits=10,shuffle=True,random_state=1)\n",
    "mse=[]\n",
    "#calculate mse for only intercept\n",
    "score=-1*model_selection.cross_val_score(regr,np.ones((n,1)),np.asanyarray(y_train).ravel(),cv=kf_10,scoring='neg_mean_squared_error').mean()\n",
    "mse.append(score)\n",
    "#calculate mse for principle components\n",
    "for i in np.arange(1,20):\n",
    "    score=-1*model_selection.cross_val_score(regr,x_train_red[:,:i],np.asanyarray(y_train).ravel(),cv=kf_10,scoring='neg_mean_squared_error').mean()\n",
    "    mse.append(score)\n",
    "#plotting\n",
    "plt.figure(figsize=(15,10))\n",
    "plt.plot(mse,'-v')\n",
    "plt.xlabel('Number of Principle Components')\n",
    "plt.ylabel('MSE')\n",
    "plt.title('SalePrice')"
   ]
  },
  {
   "cell_type": "code",
   "execution_count": 87,
   "metadata": {},
   "outputs": [],
   "source": [
    "#min is at 10"
   ]
  },
  {
   "cell_type": "code",
   "execution_count": 88,
   "metadata": {},
   "outputs": [],
   "source": [
    "# We find that the lowest cross-validation error occurs when $M = 10$\n",
    "# components are used. Now we'll see how it performs on the test data and compute the test MSE as follows:"
   ]
  },
  {
   "cell_type": "code",
   "execution_count": 89,
   "metadata": {},
   "outputs": [],
   "source": [
    "from sklearn.metrics import mean_squared_error"
   ]
  },
  {
   "cell_type": "code",
   "execution_count": 90,
   "metadata": {},
   "outputs": [
    {
     "data": {
      "text/plain": [
       "1726343465.9080634"
      ]
     },
     "execution_count": 90,
     "metadata": {},
     "output_type": "execute_result"
    }
   ],
   "source": [
    "x_reduced_test=pca2.transform(scale(x_test))[:,:13]\n",
    "#train regression model on training data\n",
    "regr=LinearRegression()\n",
    "regr.fit(x_train_red[:,:13],y_train)\n",
    "#prediction using test data\n",
    "pred=regr.predict(x_reduced_test)\n",
    "mean_squared_error(y_test,pred)"
   ]
  },
  {
   "cell_type": "code",
   "execution_count": 91,
   "metadata": {},
   "outputs": [
    {
     "data": {
      "text/plain": [
       "0.7393191232756964"
      ]
     },
     "execution_count": 91,
     "metadata": {},
     "output_type": "execute_result"
    }
   ],
   "source": [
    "r2_score(y_test,pred)"
   ]
  },
  {
   "cell_type": "markdown",
   "metadata": {},
   "source": [
    "# PARTIAL LEAST SQUARES"
   ]
  },
  {
   "cell_type": "code",
   "execution_count": 92,
   "metadata": {},
   "outputs": [],
   "source": [
    "n=len(x_train)"
   ]
  },
  {
   "cell_type": "code",
   "execution_count": 93,
   "metadata": {},
   "outputs": [
    {
     "data": {
      "text/plain": [
       "(-1.0, 19.9)"
      ]
     },
     "execution_count": 93,
     "metadata": {},
     "output_type": "execute_result"
    },
    {
     "data": {
      "image/png": "[encoded data removed]",
      "text/plain": [
       "<Figure size 1080x720 with 1 Axes>"
      ]
     },
     "metadata": {
      "needs_background": "light"
     },
     "output_type": "display_data"
    }
   ],
   "source": [
    "#10_fold cv, with shuffle\n",
    "kf_10=model_selection.KFold(n_splits=10,shuffle=True,random_state=1)\n",
    "mse=[]\n",
    "#calculating mse for different components\n",
    "for i in np.arange(1,20):\n",
    "    pls=PLSRegression(n_components=i)\n",
    "    score=-1*model_selection.cross_val_score(pls,scale(x_train),y_train,cv=kf_10,scoring='neg_mean_squared_error').mean()\n",
    "    mse.append(score)\n",
    "#plotting\n",
    "plt.figure(figsize=(15,10))\n",
    "plt.plot(np.arange(1,20),np.array(mse),'-v')\n",
    "plt.xlabel('Number of Principle Components in regression')\n",
    "plt.ylabel('MSE')\n",
    "plt.title('SalePrice')\n",
    "plt.xlim(xmin=-1)"
   ]
  },
  {
   "cell_type": "code",
   "execution_count": 94,
   "metadata": {},
   "outputs": [],
   "source": [
    "#mse is lowest at 3 principle components."
   ]
  },
  {
   "cell_type": "code",
   "execution_count": 95,
   "metadata": {},
   "outputs": [],
   "source": [
    "#we now evaluate the corresponding test set "
   ]
  },
  {
   "cell_type": "code",
   "execution_count": 96,
   "metadata": {},
   "outputs": [
    {
     "data": {
      "text/plain": [
       "1604669746.9109726"
      ]
     },
     "execution_count": 96,
     "metadata": {},
     "output_type": "execute_result"
    }
   ],
   "source": [
    "pls=PLSRegression(n_components=3)\n",
    "pls.fit(scale(x_train),y_train)\n",
    "yhat=pls.predict(scale(x_test))\n",
    "mean_squared_error(y_test,yhat)"
   ]
  },
  {
   "cell_type": "code",
   "execution_count": 97,
   "metadata": {},
   "outputs": [
    {
     "data": {
      "text/plain": [
       "0.7576920672285293"
      ]
     },
     "execution_count": 97,
     "metadata": {},
     "output_type": "execute_result"
    }
   ],
   "source": [
    "r2_score(y_test,yhat)"
   ]
  },
  {
   "cell_type": "markdown",
   "metadata": {},
   "source": [
    "# ---------------------------------------------------------------------------------------------------------------"
   ]
  },
  {
   "cell_type": "markdown",
   "metadata": {},
   "source": [
    "# RANDOM FOREST REGRESSSION"
   ]
  },
  {
   "cell_type": "code",
   "execution_count": 105,
   "metadata": {},
   "outputs": [
    {
     "data": {
      "text/plain": [
       "RandomForestRegressor()"
      ]
     },
     "execution_count": 105,
     "metadata": {},
     "output_type": "execute_result"
    }
   ],
   "source": [
    "from sklearn.ensemble import RandomForestRegressor\n",
    "rfr=RandomForestRegressor()\n",
    "rfr.fit(x_train,y_train)"
   ]
  },
  {
   "cell_type": "code",
   "execution_count": 106,
   "metadata": {},
   "outputs": [],
   "source": [
    "from sklearn.preprocessing import scale\n",
    "rfr.fit(scale(x_train),y_train)\n",
    "yhat1=rfr.predict(scale(x_train))\n",
    "yhat2=rfr.predict(scale(x_test))"
   ]
  },
  {
   "cell_type": "code",
   "execution_count": 107,
   "metadata": {},
   "outputs": [],
   "source": [
    "from sklearn.metrics import r2_score,mean_squared_error"
   ]
  },
  {
   "cell_type": "code",
   "execution_count": 108,
   "metadata": {},
   "outputs": [
    {
     "name": "stdout",
     "output_type": "stream",
     "text": [
      "train : 0.9766183567870494\n",
      "train : 0.7503486881896707\n"
     ]
    }
   ],
   "source": [
    "print(\"train :\",r2_score(yhat1,y_train))\n",
    "print(\"train :\",r2_score(yhat2,y_test))"
   ]
  },
  {
   "cell_type": "code",
   "execution_count": 109,
   "metadata": {},
   "outputs": [
    {
     "data": {
      "text/plain": [
       "1180601179.7546835"
      ]
     },
     "execution_count": 109,
     "metadata": {},
     "output_type": "execute_result"
    }
   ],
   "source": [
    "mean_squared_error(yhat2,y_test)"
   ]
  },
  {
   "cell_type": "markdown",
   "metadata": {},
   "source": [
    "# RF"
   ]
  },
  {
   "cell_type": "code",
   "execution_count": 111,
   "metadata": {},
   "outputs": [],
   "source": [
    "from sklearn.preprocessing import scale"
   ]
  },
  {
   "cell_type": "code",
   "execution_count": 112,
   "metadata": {},
   "outputs": [],
   "source": [
    "rf1=RandomForestRegressor(bootstrap = True,oob_score = True,criterion='mse',n_estimators=1000)"
   ]
  },
  {
   "cell_type": "code",
   "execution_count": 113,
   "metadata": {},
   "outputs": [
    {
     "data": {
      "text/plain": [
       "RandomForestRegressor(n_estimators=1000, oob_score=True)"
      ]
     },
     "execution_count": 113,
     "metadata": {},
     "output_type": "execute_result"
    }
   ],
   "source": [
    "rf1.fit(scale(x_train),y_train)"
   ]
  },
  {
   "cell_type": "code",
   "execution_count": 114,
   "metadata": {},
   "outputs": [
    {
     "data": {
      "text/plain": [
       "0.7502600155111118"
      ]
     },
     "execution_count": 114,
     "metadata": {},
     "output_type": "execute_result"
    }
   ],
   "source": [
    "yhat=rf1.predict(scale(x_test))\n",
    "from sklearn.metrics import r2_score\n",
    "r2_score(yhat,y_test)"
   ]
  },
  {
   "cell_type": "markdown",
   "metadata": {},
   "source": [
    "# Gradient Boosting"
   ]
  },
  {
   "cell_type": "code",
   "execution_count": 122,
   "metadata": {},
   "outputs": [],
   "source": [
    "from sklearn.ensemble import GradientBoostingRegressor\n",
    "from sklearn.preprocessing import scale\n",
    "from sklearn.metrics import r2_score"
   ]
  },
  {
   "cell_type": "code",
   "execution_count": 123,
   "metadata": {},
   "outputs": [
    {
     "data": {
      "text/plain": [
       "GradientBoostingRegressor(n_estimators=1000)"
      ]
     },
     "execution_count": 123,
     "metadata": {},
     "output_type": "execute_result"
    }
   ],
   "source": [
    "gb=GradientBoostingRegressor(n_estimators=1000)\n",
    "gb.fit(scale(x_train),y_train)"
   ]
  },
  {
   "cell_type": "code",
   "execution_count": 124,
   "metadata": {},
   "outputs": [],
   "source": [
    "yhat=gb.predict(scale(x_test))"
   ]
  },
  {
   "cell_type": "code",
   "execution_count": 125,
   "metadata": {},
   "outputs": [
    {
     "data": {
      "text/plain": [
       "0.8086222356536951"
      ]
     },
     "execution_count": 125,
     "metadata": {},
     "output_type": "execute_result"
    }
   ],
   "source": [
    "r2_score(yhat,y_test)"
   ]
  },
  {
   "cell_type": "markdown",
   "metadata": {},
   "source": [
    "#### PIPELINE"
   ]
  },
  {
   "cell_type": "code",
   "execution_count": 128,
   "metadata": {},
   "outputs": [],
   "source": [
    "from sklearn.pipeline import make_pipeline\n",
    "from sklearn.preprocessing import StandardScaler"
   ]
  },
  {
   "cell_type": "code",
   "execution_count": 129,
   "metadata": {},
   "outputs": [],
   "source": [
    "gp=make_pipeline(StandardScaler(),GradientBoostingRegressor(n_estimators=1000))"
   ]
  },
  {
   "cell_type": "code",
   "execution_count": 130,
   "metadata": {},
   "outputs": [
    {
     "data": {
      "text/plain": [
       "Pipeline(steps=[('standardscaler', StandardScaler()),\n",
       "                ('gradientboostingregressor',\n",
       "                 GradientBoostingRegressor(n_estimators=1000))])"
      ]
     },
     "execution_count": 130,
     "metadata": {},
     "output_type": "execute_result"
    }
   ],
   "source": [
    "gp.fit(x_train,y_train)"
   ]
  },
  {
   "cell_type": "code",
   "execution_count": 131,
   "metadata": {
    "scrolled": true
   },
   "outputs": [
    {
     "data": {
      "text/plain": [
       "0.8423537400557624"
      ]
     },
     "execution_count": 131,
     "metadata": {},
     "output_type": "execute_result"
    }
   ],
   "source": [
    "yhat=gp.predict(x_test)\n",
    "r2_score(yhat,y_test)"
   ]
  }
 ],
 "metadata": {
  "kernelspec": {
   "display_name": "Python 3",
   "language": "python",
   "name": "python3"
  },
  "language_info": {
   "codemirror_mode": {
    "name": "ipython",
    "version": 3
   },
   "file_extension": ".py",
   "mimetype": "text/x-python",
   "name": "python",
   "nbconvert_exporter": "python",
   "pygments_lexer": "ipython3",
   "version": "3.8.5"
  }
 },
 "nbformat": 4,
 "nbformat_minor": 4
}
